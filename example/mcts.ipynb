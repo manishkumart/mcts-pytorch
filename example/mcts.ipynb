{
 "cells": [
  {
   "cell_type": "code",
   "execution_count": 3,
   "metadata": {},
   "outputs": [],
   "source": [
    "import sys\n",
    "\n",
    "sys.path.append('..')\n",
    "\n",
    "import torch\n",
    "\n",
    "from transformers import AutoModelForCausalLM, AutoTokenizer, AutoConfig\n",
    "from src.mcts import MCTS"
   ]
  },
  {
   "cell_type": "markdown",
   "metadata": {},
   "source": [
    "## Load model and tokenizer"
   ]
  },
  {
   "cell_type": "code",
   "execution_count": 4,
   "metadata": {},
   "outputs": [
    {
     "name": "stderr",
     "output_type": "stream",
     "text": [
      "Downloading shards: 100%|██████████| 2/2 [02:51<00:00, 85.87s/it] \n",
      "Loading checkpoint shards: 100%|██████████| 2/2 [00:00<00:00, 13.40it/s]\n"
     ]
    }
   ],
   "source": [
    "path = 'mkurman/llama-3.2-MEDIT-3B-o1'\n",
    "\n",
    "model = AutoModelForCausalLM.from_pretrained(\n",
    "    path,\n",
    "    torch_dtype=torch.bfloat16,\n",
    ")\n",
    "\n",
    "# path = 'microsoft/phi-4'\n",
    "tokenizer = AutoTokenizer.from_pretrained(\n",
    "    path,\n",
    ")"
   ]
  },
  {
   "cell_type": "code",
   "execution_count": 6,
   "metadata": {},
   "outputs": [],
   "source": [
    "if isinstance(model.config.eos_token_id, int):\n",
    "    model.config.eos_token_id = [model.config.eos_token_id]\n",
    "\n",
    "def has_eos(output, eos_token: list[int]):\n",
    "    return any(x for x in eos_token if x in output)    "
   ]
  },
  {
   "cell_type": "markdown",
   "metadata": {},
   "source": [
    "## Create input prompt"
   ]
  },
  {
   "cell_type": "code",
   "execution_count": 7,
   "metadata": {},
   "outputs": [],
   "source": [
    "chat_like_texts = [\n",
    "    [\n",
    "        {\n",
    "            \"role\": \"user\",\n",
    "            \"content\": f\"Question: A 48-year-old man comes to the clinic because of a 10-year history of recurrent, intrusive thoughts that his house will bebroken into and damaged by criminals or accidentally destroyed by a fire when he is not home. These thoughts haveworsened during the past 2 months. He reports now spending 4 hours daily checking that the doors and windows are closedand locked and that the stove and oven are turned off; he previously spent 2 hours daily doing these tasks. He says he cannotkeep a job or leave the house very much because of the amount of time he spends checking these things. He has no otherhistory of serious illness and takes no medications. Physical examination shows no abnormalities. On mental statusexamination, he has an anxious mood and a sad affect. He is fully oriented. He is not having hallucinations or delusions. Themost effective pharmacotherapy for this patient is an agent that targets which of the following neurotransmitters?\\nA. γ-Aminobutyric acid\\nB. Dopamine\\nC. Glutamate\\nD. Norepinephrine\\nE. Serotonin\",\n",
    "        },\n",
    "    ]\n",
    "]\n",
    "\n",
    "input_ids = tokenizer(tokenizer.apply_chat_template(chat_like_texts[0], tokenize=False, add_generation_prompt=True), padding=True, truncation=True, return_tensors=\"pt\")"
   ]
  },
  {
   "cell_type": "markdown",
   "metadata": {},
   "source": [
    "## Configure MCTS"
   ]
  },
  {
   "cell_type": "code",
   "execution_count": null,
   "metadata": {},
   "outputs": [],
   "source": [
    "MAX_DEPTH = 6 # Maximum depth of the tree\n",
    "MAX_SIMULATIONS = 4 # Maximum number of simulations per node\n",
    "MAX_NEW_TOKENS = 32 # Maximum number of tokens to generate per simulation\n",
    "TEMPERATURE = 0.5 # Temperature for the generation\n",
    "\n",
    "MAX_TOTAL_TOKENS = 8192 # Maximum number of tokens to generate in total"
   ]
  },
  {
   "cell_type": "markdown",
   "metadata": {},
   "source": [
    "## Run the MCTS"
   ]
  },
  {
   "cell_type": "code",
   "execution_count": 8,
   "metadata": {},
   "outputs": [
    {
     "name": "stderr",
     "output_type": "stream",
     "text": [
      "The attention mask is not set and cannot be inferred from input because pad token is same as eos token. As a consequence, you may observe unexpected behavior. Please pass your input's `attention_mask` to obtain reliable results.\n"
     ]
    },
    {
     "name": "stdout",
     "output_type": "stream",
     "text": [
      "<|begin_of_text|><|begin_of_text|><|start_header_id|>system<|end_header_id|>\n",
      "\n",
      "Cutting Knowledge Date: December 2023\n",
      "Today Date: 14 Jan 2025\n",
      "\n",
      "<|eot_id|><|start_header_id|>user<|end_header_id|>\n",
      "\n",
      "Question: A 48-year-old man comes to the clinic because of a 10-year history of recurrent, intrusive thoughts that his house will bebroken into and damaged by criminals or accidentally destroyed by a fire when he is not home. These thoughts haveworsened during the past 2 months. He reports now spending 4 hours daily checking that the doors and windows are closedand locked and that the stove and oven are turned off; he previously spent 2 hours daily doing these tasks. He says he cannotkeep a job or leave the house very much because of the amount of time he spends checking these things. He has no otherhistory of serious illness and takes no medications. Physical examination shows no abnormalities. On mental statusexamination, he has an anxious mood and a sad affect. He is fully oriented. He is not having hallucinations or delusions. Themost effective pharmacotherapy for this patient is an agent that targets which of the following neurotransmitters?\n",
      "A. γ-Aminobutyric acid\n",
      "B. Dopamine\n",
      "C. Glutamate\n",
      "D. Norepinephrine\n",
      "E. Serotonin<|eot_id|><|start_header_id|>assistant<|end_header_id|>\n",
      "\n",
      "\n",
      "<Thought>\n",
      "Alright, I need to determine the most effective pharmacotherapy for this patient's condition based on the provided clinical scenario. The patient is a 48-year-old man with a 10-year history of recurrent, intrusive thoughts about his house being broken into or destroyed by fire when he's not home. These thoughts have worsened over the past 2 months, leading to increased time spent checking doors, windows, stove, and oven, which has significantly impacted his ability to keep a job and leave the house. The physical examination is normal, and there's no history of serious illness or medication use. The mental status examination reveals an anxious mood and a sad affect, but no hallucinations or delusions. \n",
      "\n",
      "First, let's summarize the key points:\n",
      "- **Chief Complaint:** Recurrent, intrusive thoughts about house security.\n",
      "- **Duration:** 10 years.\n",
      "- **Symptoms:** Increased time spent checking doors, windows, stove, and oven.\n",
      "- **Impact:** Impairs daily functioning (job and social activities).\n",
      "- **Mental Status:** Anxious mood, sad affect, fully oriented, no hallucinations or delusions.\n",
      "- **Physical Examination:** Normal.\n",
      "- **Medical History:** No serious illness, no medication use.\n",
      "\n",
      "Given these details, the patient's symptoms align closely with Obsessive-Compulsive Disorder (OCD), characterized by unwanted and intrusive thoughts (obsessions) and repetitive behaviors (compulsions) aimed at reducing anxiety. The patient's compulsions involve excessive checking behaviors, which are a hallmark of OCD.\n",
      "\n",
      "Now, let's evaluate the neurotransmitter options provided:\n",
      "\n",
      "A. **γ-Aminobutyric acid (GABA):** GABA is an inhibitory neurotransmitter that reduces neuronal excitability. While GABAergic medications are used in various psychiatric conditions, they are not typically the first-line treatment for OCD.\n",
      "\n",
      "B. **Dopamine:** Dopamine is involved in reward, motivation, and motor control. While dopamine dysregulation is implicated in various psychiatric disorders, it's not the primary target for OCD treatment.\n",
      "\n",
      "C. **Glutamate:** Glutamate is an excitatory neurotransmitter involved in learning and memory. It's not directly targeted in OCD pharmacotherapy.\n",
      "\n",
      "D. **Norepinephrine:** Norepinephrine is involved in attention and arousal. While norepinephrine reuptake inhibitors (NRIs) are used in depression and anxiety disorders, they are not the primary choice for OCD.\n",
      "\n",
      "E. **Serotonin:** Serotonin is a key neurotransmitter in mood regulation and is widely recognized as the primary target for OCD treatment. Selective serotonin reuptake inhibitors (SSRIs) are the first-line pharmacological treatments for OCD. They are effective in reducing both the frequency and severity of obsessions and compulsions.\n",
      "\n",
      "Considering the above, the most effective pharmacotherapy for this patient's OCD symptoms would be an agent that targets serotonin.\n",
      "\n",
      "</Thought>\n",
      "<Output>\n",
      "E. Serotonin\n",
      "</Output><|eot_id|><|eot_id|><|eot_id|>"
     ]
    }
   ],
   "source": [
    "model.to(\"cuda\")\n",
    "input_tokens = input_ids['input_ids'].to('cuda') \n",
    "\n",
    "model.eval()\n",
    "\n",
    "print(tokenizer.decode(input_tokens[0]))\n",
    "\n",
    "while len(input_tokens[0]) < MAX_TOTAL_TOKENS:\n",
    "    mcts = MCTS(model, tokenizer, max_depth=MAX_DEPTH, num_simulations=MAX_SIMULATIONS, temperature=TEMPERATURE, max_new_tokens=MAX_NEW_TOKENS, stop_tokens=model.config.eos_token_id)\n",
    "    \n",
    "    new_tokens = mcts.search(input_tokens)\n",
    "    new_tokens = new_tokens[len(input_tokens[0]):]\n",
    "    \n",
    "    input_tokens = torch.cat([input_tokens, new_tokens.unsqueeze(0)], dim=-1)\n",
    "\n",
    "    print(tokenizer.decode(new_tokens), end='')\n",
    "\n",
    "    if has_eos(new_tokens, eos_token=model.config.eos_token_id):\n",
    "        break"
   ]
  },
  {
   "cell_type": "code",
   "execution_count": null,
   "metadata": {},
   "outputs": [],
   "source": []
  }
 ],
 "metadata": {
  "kernelspec": {
   "display_name": "venv",
   "language": "python",
   "name": "python3"
  },
  "language_info": {
   "codemirror_mode": {
    "name": "ipython",
    "version": 3
   },
   "file_extension": ".py",
   "mimetype": "text/x-python",
   "name": "python",
   "nbconvert_exporter": "python",
   "pygments_lexer": "ipython3",
   "version": "3.12.3"
  }
 },
 "nbformat": 4,
 "nbformat_minor": 2
}
