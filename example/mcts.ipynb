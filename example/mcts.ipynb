{
 "cells": [
  {
   "cell_type": "code",
   "execution_count": 7,
   "metadata": {},
   "outputs": [],
   "source": [
    "import sys\n",
    "\n",
    "sys.path.append('..')\n",
    "\n",
    "\n",
    "import os\n",
    "\n",
    "import torch\n",
    "\n",
    "from transformers import AutoModelForCausalLM, AutoTokenizer, AutoConfig\n",
    "from src.mcts import MCTS"
   ]
  },
  {
   "cell_type": "markdown",
   "metadata": {},
   "source": [
    "## Load model and tokenizer"
   ]
  },
  {
   "cell_type": "code",
   "execution_count": 8,
   "metadata": {},
   "outputs": [
    {
     "name": "stderr",
     "output_type": "stream",
     "text": [
      "Loading checkpoint shards: 100%|██████████| 2/2 [00:00<00:00, 10.83it/s]\n"
     ]
    }
   ],
   "source": [
    "path = 'mkurman/llama-3.2-MEDIT-3B-o1'\n",
    "hf_cache = os.environ.get('HF_HOME', os.path.expanduser('~/.cache/huggingface'))\n",
    "\n",
    "model = AutoModelForCausalLM.from_pretrained(\n",
    "    path,\n",
    "    cache_dir=hf_cache,\n",
    "    torch_dtype=torch.bfloat16,\n",
    ")\n",
    "\n",
    "tokenizer = AutoTokenizer.from_pretrained(\n",
    "    path,\n",
    "    cache_dir=hf_cache,\n",
    ")"
   ]
  },
  {
   "cell_type": "code",
   "execution_count": 9,
   "metadata": {},
   "outputs": [],
   "source": [
    "if isinstance(model.config.eos_token_id, int):\n",
    "    model.config.eos_token_id = [model.config.eos_token_id]\n",
    "\n",
    "def has_eos(output, eos_token: list[int]):\n",
    "    return any(x for x in eos_token if x in output)    "
   ]
  },
  {
   "cell_type": "markdown",
   "metadata": {},
   "source": [
    "## Create input prompt"
   ]
  },
  {
   "cell_type": "code",
   "execution_count": 10,
   "metadata": {},
   "outputs": [],
   "source": [
    "chat_like_texts = [\n",
    "    [\n",
    "        {\n",
    "            \"role\": \"user\",\n",
    "            \"content\": f\"Question: A 48-year-old man comes to the clinic because of a 10-year history of recurrent, intrusive thoughts that his house will bebroken into and damaged by criminals or accidentally destroyed by a fire when he is not home. These thoughts haveworsened during the past 2 months. He reports now spending 4 hours daily checking that the doors and windows are closedand locked and that the stove and oven are turned off; he previously spent 2 hours daily doing these tasks. He says he cannotkeep a job or leave the house very much because of the amount of time he spends checking these things. He has no otherhistory of serious illness and takes no medications. Physical examination shows no abnormalities. On mental statusexamination, he has an anxious mood and a sad affect. He is fully oriented. He is not having hallucinations or delusions. Themost effective pharmacotherapy for this patient is an agent that targets which of the following neurotransmitters?\\nA. γ-Aminobutyric acid\\nB. Dopamine\\nC. Glutamate\\nD. Norepinephrine\\nE. Serotonin\",\n",
    "        },\n",
    "    ]\n",
    "]\n",
    "\n",
    "input_ids = tokenizer(tokenizer.apply_chat_template(chat_like_texts[0], tokenize=False, add_generation_prompt=True), padding=True, truncation=True, return_tensors=\"pt\")"
   ]
  },
  {
   "cell_type": "markdown",
   "metadata": {},
   "source": [
    "## Configure MCTS"
   ]
  },
  {
   "cell_type": "code",
   "execution_count": 11,
   "metadata": {},
   "outputs": [],
   "source": [
    "MAX_DEPTH = 6 # Maximum depth of the tree\n",
    "MAX_SIMULATIONS = 4 # Maximum number of simulations per node\n",
    "MAX_NEW_TOKENS = 32 # Maximum number of tokens to generate per simulation\n",
    "TEMPERATURE = 0.5 # Temperature for the generation\n",
    "\n",
    "MAX_TOTAL_TOKENS = 8192 # Maximum number of tokens to generate in total"
   ]
  },
  {
   "cell_type": "markdown",
   "metadata": {},
   "source": [
    "## Run the MCTS"
   ]
  },
  {
   "cell_type": "code",
   "execution_count": 12,
   "metadata": {},
   "outputs": [
    {
     "name": "stdout",
     "output_type": "stream",
     "text": [
      "<|begin_of_text|><|begin_of_text|><|start_header_id|>system<|end_header_id|>\n",
      "\n",
      "Cutting Knowledge Date: December 2023\n",
      "Today Date: 14 Jan 2025\n",
      "\n",
      "<|eot_id|><|start_header_id|>user<|end_header_id|>\n",
      "\n",
      "Question: A 48-year-old man comes to the clinic because of a 10-year history of recurrent, intrusive thoughts that his house will bebroken into and damaged by criminals or accidentally destroyed by a fire when he is not home. These thoughts haveworsened during the past 2 months. He reports now spending 4 hours daily checking that the doors and windows are closedand locked and that the stove and oven are turned off; he previously spent 2 hours daily doing these tasks. He says he cannotkeep a job or leave the house very much because of the amount of time he spends checking these things. He has no otherhistory of serious illness and takes no medications. Physical examination shows no abnormalities. On mental statusexamination, he has an anxious mood and a sad affect. He is fully oriented. He is not having hallucinations or delusions. Themost effective pharmacotherapy for this patient is an agent that targets which of the following neurotransmitters?\n",
      "A. γ-Aminobutyric acid\n",
      "B. Dopamine\n",
      "C. Glutamate\n",
      "D. Norepinephrine\n",
      "E. Serotonin<|eot_id|><|start_header_id|>assistant<|end_header_id|>\n",
      "\n",
      "\n",
      "<Thought>\n",
      "Alright, let's analyze this question step by step to determine the most effective pharmacotherapy for the patient's condition.\n",
      "\n",
      "First, the patient is a 48-year-old man with a 10-year history of recurrent, intrusive thoughts that his house will be broken into and damaged by criminals or accidentally destroyed by a fire when he is not home. These thoughts have worsened over the past 2 months. He reports spending significantly more time (4 hours daily) checking that the doors and windows are closed and locked and that the stove and oven are turned off compared to before (2 hours daily). This excessive preoccupation with safety measures is causing him to avoid leaving the house or keeping a job, leading to social isolation and significant distress.\n",
      "\n",
      "The patient's symptoms suggest a diagnosis of Obsessive-Compulsive Disorder (OCD), specifically with a focus on obsessive thoughts about safety and compulsive behaviors to prevent perceived harm. The increased duration and severity of these thoughts, along with the significant impairment in daily functioning, support this diagnosis.\n",
      "\n",
      "Now, considering the pharmacotherapy options provided:\n",
      "\n",
      "A. γ-Aminobutyric acid (GABA): GABA is an inhibitory neurotransmitter involved in reducing neuronal excitability throughout the nervous system. While GABAergic medications are used in treating anxiety disorders, they are not the primary target for OCD.\n",
      "\n",
      "B. Dopamine: Dopamine is a neurotransmitter involved in reward, motivation, and movement. While dopamine dysregulation is implicated in various psychiatric disorders, it is not the primary target for OCD treatment.\n",
      "\n",
      "C. Glutamate: Glutamate is an excitatory neurotransmitter involved in learning and memory. Glutamate antagonists are sometimes used in treating certain psychiatric conditions, but they are not the mainstay for OCD.\n",
      "\n",
      "D. Norepinephrine: Norepinephrine is involved in attention and arousal. While norepinephrine is a target for some antidepressants, it is not the primary neurotransmitter targeted in OCD treatment.\n",
      "\n",
      "E. Serotonin: Serotonin is crucial in regulating mood, appetite, and sleep. Selective serotonin reuptake inhibitors (SSRIs) are the first-line pharmacological treatment for OCD. They work by increasing the availability of serotonin in the synaptic cleft, thereby reducing the symptoms of obsessive thoughts and compulsive behaviors.\n",
      "\n",
      "Given this analysis, the most effective pharmacotherapy for this patient's OCD is an agent that targets serotonin. SSRIs are well-established and widely used in the treatment of OCD, making option E the correct answer.\n",
      "\n",
      "</Thought>\n",
      "<Output>\n",
      "E. Serotonin\n",
      "</Output><|eot_id|>"
     ]
    }
   ],
   "source": [
    "model.to(\"cuda\")\n",
    "input_tokens = input_ids['input_ids'].to('cuda') \n",
    "\n",
    "model.eval()\n",
    "\n",
    "print(tokenizer.decode(input_tokens[0]))\n",
    "\n",
    "while len(input_tokens[0]) < MAX_TOTAL_TOKENS:\n",
    "    mcts = MCTS(model, tokenizer, max_depth=MAX_DEPTH, num_simulations=MAX_SIMULATIONS, temperature=TEMPERATURE, max_new_tokens=MAX_NEW_TOKENS, stop_tokens=model.config.eos_token_id)\n",
    "    \n",
    "    new_tokens = mcts.search(input_tokens)\n",
    "\n",
    "    new_tokens = new_tokens[..., input_tokens.shape[-1]:]\n",
    "\n",
    "    input_tokens = torch.cat([input_tokens, new_tokens], dim=-1)\n",
    "\n",
    "    print(tokenizer.decode(new_tokens[0]), end='')\n",
    "\n",
    "    if has_eos(new_tokens, eos_token=model.config.eos_token_id):\n",
    "        break"
   ]
  },
  {
   "cell_type": "code",
   "execution_count": null,
   "metadata": {},
   "outputs": [],
   "source": []
  }
 ],
 "metadata": {
  "kernelspec": {
   "display_name": "venv",
   "language": "python",
   "name": "python3"
  },
  "language_info": {
   "codemirror_mode": {
    "name": "ipython",
    "version": 3
   },
   "file_extension": ".py",
   "mimetype": "text/x-python",
   "name": "python",
   "nbconvert_exporter": "python",
   "pygments_lexer": "ipython3",
   "version": "3.12.3"
  }
 },
 "nbformat": 4,
 "nbformat_minor": 2
}
